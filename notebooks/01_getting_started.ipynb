{
 "cells": [
  {
   "cell_type": "markdown",
   "metadata": {
    "collapsed": true
   },
   "source": [
    "# Learn-It Getting Started\n",
    "\n",
    "\n",
    "In general a learning problem considers a set of n samples of data and then tries to predict properties of unknown data. If each sample is more than a single number then it is said to have several attributes or features. Classification is a subproblem of Machine Learning when samples belong to two or more classes and having a set of labeled data we would like to be able to predict(label) the correct class for an unseen data samples.\n",
    "\n",
    "Learn-It can automate classification task workflow for you. For example, you have some labeled historical data and you would like to predict a certain outcome for new unlabeled data samples. Or, lets say you have a dataset of users, their past missed doctor appointments and ones they arrived on time for. Your task is to predict for new appointments made, which patients will likely miss those appointments and which will arrive on time. Learn-It can help with all of these tasks by using your labeled data to train a machine learning model.\n",
    "\n",
    "Here's the workflow: both `AutoConverter` and `AutoLearn` work automatically.\n",
    "\n",
    "![Learn-It workflow](images/workflow.png)\n",
    "Tabular data is automatically converted from it's original representation into a **feature matrix**, consisting only of numbers and the **feature vector**, which encodes the values we would like to predict in future. This operation is automated with `AutoConverter`. \n",
    "\n",
    "Then the feature matrix and the target vector are fed to 'AutoLearn'. The latter trains several machine learning models on this data and chooses the best performing one. The user gets this model and it's ready to use.\n",
    "\n",
    "As soon as we get the trained model, we can start using it on the unseen data. Convert it using already fitted `AutoConverter` and feed to the model. Decode the feature vector back and we are all set!\n",
    "![Prediction phase](images/prediction.png)\n",
    "\n",
    "These steps are often called Machine Learning pipeline and developing a pipeline for each problem has been a time-consuming task for data scientists and machine learning engineers. Learn-It will automate these steps and save time for them to work on other tasks.\n",
    "\n",
    "Let's get started!\n",
    "\n",
    "First we need to import the needed libraries:"
   ]
  },
  {
   "cell_type": "code",
   "execution_count": 1,
   "metadata": {},
   "outputs": [
    {
     "name": "stderr",
     "output_type": "stream",
     "text": [
      "Using TensorFlow backend.\n"
     ]
    }
   ],
   "source": [
    "import sys\n",
    "\n",
    "import numpy as np\n",
    "import pandas as pd\n",
    "import warnings\n",
    "warnings.filterwarnings('ignore')\n",
    "from tabulate import tabulate\n",
    "\n",
    "sys.path.append(\"../\")\n",
    "from learnit import AutoConverter, AutoLearn, Evaluate\n",
    "warnings.filterwarnings('ignore')\n",
    "\n",
    "%matplotlib inline\n",
    "warnings.filterwarnings('ignore')"
   ]
  },
  {
   "cell_type": "markdown",
   "metadata": {},
   "source": [
    "## 0. Inspect the dataset\n",
    "Most of the modern databases support saving spreadsheet to .cvs file. CVS here means 'comma separated value' and is the most common data format for tabular data. We will now open this type of file and it is automatically converted to a special pandas `DataFrame` object. This object is easy to work with. "
   ]
  },
  {
   "cell_type": "code",
   "execution_count": 2,
   "metadata": {},
   "outputs": [],
   "source": [
    "# Load the Titanic dataset from local\n",
    "df = pd.read_csv(\"data/train.csv\")"
   ]
  },
  {
   "cell_type": "markdown",
   "metadata": {},
   "source": [
    "With the following operation we inspect what is inside the dataset, printing the 'head' of it (first values). This gives a good view of what we have and we can double check that the data is correctly imported. Our demo dataset contains the informaiton about the passengers of Titanic. We will try to predict, based on name, age, gender and other characteristics of the passangess, who of them would survive in the catastrophe. This way `Survived` column is going to be our **target** column. \n"
   ]
  },
  {
   "cell_type": "code",
   "execution_count": 3,
   "metadata": {},
   "outputs": [
    {
     "data": {
      "text/html": [
       "<div>\n",
       "<style scoped>\n",
       "    .dataframe tbody tr th:only-of-type {\n",
       "        vertical-align: middle;\n",
       "    }\n",
       "\n",
       "    .dataframe tbody tr th {\n",
       "        vertical-align: top;\n",
       "    }\n",
       "\n",
       "    .dataframe thead th {\n",
       "        text-align: right;\n",
       "    }\n",
       "</style>\n",
       "<table border=\"1\" class=\"dataframe\">\n",
       "  <thead>\n",
       "    <tr style=\"text-align: right;\">\n",
       "      <th></th>\n",
       "      <th>PassengerId</th>\n",
       "      <th>Survived</th>\n",
       "      <th>Pclass</th>\n",
       "      <th>Name</th>\n",
       "      <th>Sex</th>\n",
       "      <th>Age</th>\n",
       "      <th>SibSp</th>\n",
       "      <th>Parch</th>\n",
       "      <th>Ticket</th>\n",
       "      <th>Fare</th>\n",
       "      <th>Cabin</th>\n",
       "      <th>Embarked</th>\n",
       "    </tr>\n",
       "  </thead>\n",
       "  <tbody>\n",
       "    <tr>\n",
       "      <th>0</th>\n",
       "      <td>1</td>\n",
       "      <td>0</td>\n",
       "      <td>3</td>\n",
       "      <td>Braund, Mr. Owen Harris</td>\n",
       "      <td>male</td>\n",
       "      <td>22.0</td>\n",
       "      <td>1</td>\n",
       "      <td>0</td>\n",
       "      <td>A/5 21171</td>\n",
       "      <td>7.2500</td>\n",
       "      <td>NaN</td>\n",
       "      <td>S</td>\n",
       "    </tr>\n",
       "    <tr>\n",
       "      <th>1</th>\n",
       "      <td>2</td>\n",
       "      <td>1</td>\n",
       "      <td>1</td>\n",
       "      <td>Cumings, Mrs. John Bradley (Florence Briggs Th...</td>\n",
       "      <td>female</td>\n",
       "      <td>38.0</td>\n",
       "      <td>1</td>\n",
       "      <td>0</td>\n",
       "      <td>PC 17599</td>\n",
       "      <td>71.2833</td>\n",
       "      <td>C85</td>\n",
       "      <td>C</td>\n",
       "    </tr>\n",
       "    <tr>\n",
       "      <th>2</th>\n",
       "      <td>3</td>\n",
       "      <td>1</td>\n",
       "      <td>3</td>\n",
       "      <td>Heikkinen, Miss. Laina</td>\n",
       "      <td>female</td>\n",
       "      <td>26.0</td>\n",
       "      <td>0</td>\n",
       "      <td>0</td>\n",
       "      <td>STON/O2. 3101282</td>\n",
       "      <td>7.9250</td>\n",
       "      <td>NaN</td>\n",
       "      <td>S</td>\n",
       "    </tr>\n",
       "    <tr>\n",
       "      <th>3</th>\n",
       "      <td>4</td>\n",
       "      <td>1</td>\n",
       "      <td>1</td>\n",
       "      <td>Futrelle, Mrs. Jacques Heath (Lily May Peel)</td>\n",
       "      <td>female</td>\n",
       "      <td>35.0</td>\n",
       "      <td>1</td>\n",
       "      <td>0</td>\n",
       "      <td>113803</td>\n",
       "      <td>53.1000</td>\n",
       "      <td>C123</td>\n",
       "      <td>S</td>\n",
       "    </tr>\n",
       "    <tr>\n",
       "      <th>4</th>\n",
       "      <td>5</td>\n",
       "      <td>0</td>\n",
       "      <td>3</td>\n",
       "      <td>Allen, Mr. William Henry</td>\n",
       "      <td>male</td>\n",
       "      <td>35.0</td>\n",
       "      <td>0</td>\n",
       "      <td>0</td>\n",
       "      <td>373450</td>\n",
       "      <td>8.0500</td>\n",
       "      <td>NaN</td>\n",
       "      <td>S</td>\n",
       "    </tr>\n",
       "  </tbody>\n",
       "</table>\n",
       "</div>"
      ],
      "text/plain": [
       "   PassengerId  Survived  Pclass  \\\n",
       "0            1         0       3   \n",
       "1            2         1       1   \n",
       "2            3         1       3   \n",
       "3            4         1       1   \n",
       "4            5         0       3   \n",
       "\n",
       "                                                Name     Sex   Age  SibSp  \\\n",
       "0                            Braund, Mr. Owen Harris    male  22.0      1   \n",
       "1  Cumings, Mrs. John Bradley (Florence Briggs Th...  female  38.0      1   \n",
       "2                             Heikkinen, Miss. Laina  female  26.0      0   \n",
       "3       Futrelle, Mrs. Jacques Heath (Lily May Peel)  female  35.0      1   \n",
       "4                           Allen, Mr. William Henry    male  35.0      0   \n",
       "\n",
       "   Parch            Ticket     Fare Cabin Embarked  \n",
       "0      0         A/5 21171   7.2500   NaN        S  \n",
       "1      0          PC 17599  71.2833   C85        C  \n",
       "2      0  STON/O2. 3101282   7.9250   NaN        S  \n",
       "3      0            113803  53.1000  C123        S  \n",
       "4      0            373450   8.0500   NaN        S  "
      ]
     },
     "execution_count": 3,
     "metadata": {},
     "output_type": "execute_result"
    }
   ],
   "source": [
    "# Take a look at the dataset\n",
    "df.head()"
   ]
  },
  {
   "cell_type": "markdown",
   "metadata": {},
   "source": [
    "Let's also inspect the distribution of **target** column values. We need to make sure that there exists enough data for each class. With the following comand we get the bar plot of the classes we have in the dataset."
   ]
  },
  {
   "cell_type": "code",
   "execution_count": 4,
   "metadata": {},
   "outputs": [
    {
     "data": {
      "text/plain": [
       "<matplotlib.axes._subplots.AxesSubplot at 0x7f2a813d6a90>"
      ]
     },
     "execution_count": 4,
     "metadata": {},
     "output_type": "execute_result"
    },
    {
     "data": {
      "image/png": "[encoded data removed]",
      "text/plain": [
       "<Figure size 432x288 with 1 Axes>"
      ]
     },
     "metadata": {},
     "output_type": "display_data"
    }
   ],
   "source": [
    "df[\"Survived\"].value_counts().plot(kind=\"bar\")"
   ]
  },
  {
   "cell_type": "markdown",
   "metadata": {},
   "source": [
    "## 1. Quick Tour\n",
    "After we inspected the dataset and made sure that it looks valid, we can start working with it closely. First we convert the tabular data to the **feature matrix** and **target value**. To do so we first create `AutoConverter` class and then fit it with our data. Note that we used our `Survived` column as target to tell `AutoConverter` what is going to be target vector.\n",
    "\n",
    "By printing shapes of the objects you can see that our 12-column dataset with 891 rows is converted to over thousand column matrix with the same number of rows. This happens because some data columns can actually contain more information to extract. For example date can contain such obvious information as day, month and year and some less obvious information like day of the week. "
   ]
  },
  {
   "cell_type": "code",
   "execution_count": 5,
   "metadata": {},
   "outputs": [
    {
     "name": "stdout",
     "output_type": "stream",
     "text": [
      "(881, 12)\n",
      "(881, 1215)\n",
      "(881,)\n"
     ]
    }
   ],
   "source": [
    "# Convert an original table into feature matrix with AutoConverter\n",
    "ac = AutoConverter(target=\"Survived\")\n",
    "X, y = ac.fit_transform(df)\n",
    "\n",
    "print(df.shape)\n",
    "print(X.shape)\n",
    "print(y.shape)"
   ]
  },
  {
   "cell_type": "markdown",
   "metadata": {},
   "source": [
    "Now we are ready to train the machine learning model. We first create the instance of `AutoLearn` class and then pass our feature matrix `X` and target vector `y` to it. The process of finding the best performing predictive model starts. After it finishes we will get the best performing model that is ready to use. \n",
    "\n",
    "*Note: depending on your time and computational capacities you can choose different values of `level`, from 1 to 5. First level is the fastest, 5th level contains the more complicated models. In general the higher the level, the more precision you can get. However it's a good idea to try lower levels first, since it's faster. You can also get into the situation when lower level gives you the same performance level as the upper one, requiring significantly less time to run. This might happen. So it is a good idea to start with lower levels and see which precision you get and how it changes with the level. *"
   ]
  },
  {
   "cell_type": "code",
   "execution_count": 6,
   "metadata": {},
   "outputs": [
    {
     "name": "stdout",
     "output_type": "stream",
     "text": [
      "Learning from data...\n"
     ]
    },
    {
     "name": "stderr",
     "output_type": "stream",
     "text": [
      "100% (1 of 1) |███████████████████████████| Elapsed Time: 0:00:02 Time: 0:00:02\n"
     ]
    }
   ],
   "source": [
    "# Automatic model selection with AutoLearn\n",
    "al = AutoLearn(level=1)\n",
    "results = al.learn(X, y)"
   ]
  },
  {
   "cell_type": "markdown",
   "metadata": {},
   "source": [
    "### Take a look at AutoLearn results\n",
    "\n",
    "It's always useful to have a look at `AutoLearn` results. This way you can understand how well the resulting best model works. Here are the performance results for the best model. The performance was evaluated using K-fold method with 5 folds. It means that 5 times the dataset was randomly split to training and test sets. We can train the model using the training set and then test it with the test dataset. It has been made 5 times to ensure that the result is not dependant on the particular split. The results then are averaged to get a valid metric. `train` column is about the precision acheved with the algorithm on a training set (the set that the algorithm has learnt). `test` column is about performance on a test set. It's usual that training set performance is slightly better than the one on a test set. If these figures differ significantly, it means that the model is *overfitted* and fails to generalize. In this case it's a good idea to increase the dataset size. \n"
   ]
  },
  {
   "cell_type": "code",
   "execution_count": 7,
   "metadata": {},
   "outputs": [
    {
     "data": {
      "text/html": [
       "<div>\n",
       "<style scoped>\n",
       "    .dataframe tbody tr th:only-of-type {\n",
       "        vertical-align: middle;\n",
       "    }\n",
       "\n",
       "    .dataframe tbody tr th {\n",
       "        vertical-align: top;\n",
       "    }\n",
       "\n",
       "    .dataframe thead th {\n",
       "        text-align: right;\n",
       "    }\n",
       "</style>\n",
       "<table border=\"1\" class=\"dataframe\">\n",
       "  <thead>\n",
       "    <tr style=\"text-align: right;\">\n",
       "      <th></th>\n",
       "      <th>value</th>\n",
       "    </tr>\n",
       "    <tr>\n",
       "      <th>metric</th>\n",
       "      <th></th>\n",
       "    </tr>\n",
       "  </thead>\n",
       "  <tbody>\n",
       "    <tr>\n",
       "      <th>Including classifiers</th>\n",
       "      <td>[LogisticRegression]</td>\n",
       "    </tr>\n",
       "    <tr>\n",
       "      <th>Training time</th>\n",
       "      <td>2.57 sec.</td>\n",
       "    </tr>\n",
       "    <tr>\n",
       "      <th>Model is trained</th>\n",
       "      <td>True</td>\n",
       "    </tr>\n",
       "    <tr>\n",
       "      <th>Classifier set level</th>\n",
       "      <td>1</td>\n",
       "    </tr>\n",
       "    <tr>\n",
       "      <th>Evaluation metric</th>\n",
       "      <td>roc_auc</td>\n",
       "    </tr>\n",
       "    <tr>\n",
       "      <th>Best classifier</th>\n",
       "      <td>LogisticRegression</td>\n",
       "    </tr>\n",
       "    <tr>\n",
       "      <th>Dataset size</th>\n",
       "      <td>881</td>\n",
       "    </tr>\n",
       "    <tr>\n",
       "      <th># of features</th>\n",
       "      <td>1215</td>\n",
       "    </tr>\n",
       "  </tbody>\n",
       "</table>\n",
       "</div>"
      ],
      "text/plain": [
       "                                      value\n",
       "metric                                     \n",
       "Including classifiers  [LogisticRegression]\n",
       "Training time                     2.57 sec.\n",
       "Model is trained                       True\n",
       "Classifier set level                      1\n",
       "Evaluation metric                   roc_auc\n",
       "Best classifier          LogisticRegression\n",
       "Dataset size                            881\n",
       "# of features                          1215"
      ]
     },
     "execution_count": 7,
     "metadata": {},
     "output_type": "execute_result"
    }
   ],
   "source": [
    "info, metrics = al.display(tab=False)\n",
    "info"
   ]
  },
  {
   "cell_type": "code",
   "execution_count": 8,
   "metadata": {},
   "outputs": [
    {
     "data": {
      "text/html": [
       "<div>\n",
       "<style scoped>\n",
       "    .dataframe tbody tr th:only-of-type {\n",
       "        vertical-align: middle;\n",
       "    }\n",
       "\n",
       "    .dataframe tbody tr th {\n",
       "        vertical-align: top;\n",
       "    }\n",
       "\n",
       "    .dataframe thead th {\n",
       "        text-align: right;\n",
       "    }\n",
       "</style>\n",
       "<table border=\"1\" class=\"dataframe\">\n",
       "  <thead>\n",
       "    <tr style=\"text-align: right;\">\n",
       "      <th></th>\n",
       "      <th>training set</th>\n",
       "      <th>test set</th>\n",
       "    </tr>\n",
       "    <tr>\n",
       "      <th>metric</th>\n",
       "      <th></th>\n",
       "      <th></th>\n",
       "    </tr>\n",
       "  </thead>\n",
       "  <tbody>\n",
       "    <tr>\n",
       "      <th>Accuracy</th>\n",
       "      <td>0.945530</td>\n",
       "      <td>0.815015</td>\n",
       "    </tr>\n",
       "    <tr>\n",
       "      <th>Precision</th>\n",
       "      <td>0.947355</td>\n",
       "      <td>0.807832</td>\n",
       "    </tr>\n",
       "    <tr>\n",
       "      <th>Recall</th>\n",
       "      <td>0.937235</td>\n",
       "      <td>0.797766</td>\n",
       "    </tr>\n",
       "    <tr>\n",
       "      <th>roc_auc</th>\n",
       "      <td>0.980184</td>\n",
       "      <td>0.879114</td>\n",
       "    </tr>\n",
       "  </tbody>\n",
       "</table>\n",
       "</div>"
      ],
      "text/plain": [
       "           training set  test set\n",
       "metric                           \n",
       "Accuracy       0.945530  0.815015\n",
       "Precision      0.947355  0.807832\n",
       "Recall         0.937235  0.797766\n",
       "roc_auc        0.980184  0.879114"
      ]
     },
     "execution_count": 8,
     "metadata": {},
     "output_type": "execute_result"
    }
   ],
   "source": [
    "metrics.head()"
   ]
  },
  {
   "cell_type": "code",
   "execution_count": 9,
   "metadata": {},
   "outputs": [
    {
     "data": {
      "text/plain": [
       "<matplotlib.axes._subplots.AxesSubplot at 0x7f2a7f282048>"
      ]
     },
     "execution_count": 9,
     "metadata": {},
     "output_type": "execute_result"
    },
    {
     "data": {
      "image/png": "[encoded data removed]",
      "text/plain": [
       "<Figure size 432x288 with 1 Axes>"
      ]
     },
     "metadata": {},
     "output_type": "display_data"
    }
   ],
   "source": [
    "#Visualize train/test performance with error bars (standard deviation)\n",
    "metrics.plot(kind=\"bar\", rot=0)"
   ]
  },
  {
   "cell_type": "markdown",
   "metadata": {},
   "source": [
    "The results show that using the level one `AutoLearn` we could achieve 0.81% precision on a test set. It is usual for the predictive models to achieve better results on *training set* than on *test_set*. This happens because the model can see the data in the *training set* and take it into account and can not see the data from the *test set*. This difference, however should not be too big. For example if the model achieves 99% results on training data and 60% on test data that would indicate that the model is overfitting the data and fails to generalize to the unseen data. It would be a good idea to increase the dataset in this case.\n"
   ]
  },
  {
   "cell_type": "markdown",
   "metadata": {},
   "source": [
    "## 2. Predicting values for the unseen data\n",
    "\n",
    "The purpose of training the model is to predict values for the new, unseen data. Let's try to do that. "
   ]
  },
  {
   "cell_type": "code",
   "execution_count": 10,
   "metadata": {},
   "outputs": [
    {
     "data": {
      "text/html": [
       "<div>\n",
       "<style scoped>\n",
       "    .dataframe tbody tr th:only-of-type {\n",
       "        vertical-align: middle;\n",
       "    }\n",
       "\n",
       "    .dataframe tbody tr th {\n",
       "        vertical-align: top;\n",
       "    }\n",
       "\n",
       "    .dataframe thead th {\n",
       "        text-align: right;\n",
       "    }\n",
       "</style>\n",
       "<table border=\"1\" class=\"dataframe\">\n",
       "  <thead>\n",
       "    <tr style=\"text-align: right;\">\n",
       "      <th></th>\n",
       "      <th>prediction</th>\n",
       "      <th>Survived</th>\n",
       "    </tr>\n",
       "  </thead>\n",
       "  <tbody>\n",
       "    <tr>\n",
       "      <th>0</th>\n",
       "      <td>1</td>\n",
       "      <td>1</td>\n",
       "    </tr>\n",
       "    <tr>\n",
       "      <th>1</th>\n",
       "      <td>1</td>\n",
       "      <td>1</td>\n",
       "    </tr>\n",
       "    <tr>\n",
       "      <th>2</th>\n",
       "      <td>0</td>\n",
       "      <td>0</td>\n",
       "    </tr>\n",
       "    <tr>\n",
       "      <th>3</th>\n",
       "      <td>1</td>\n",
       "      <td>0</td>\n",
       "    </tr>\n",
       "    <tr>\n",
       "      <th>4</th>\n",
       "      <td>0</td>\n",
       "      <td>0</td>\n",
       "    </tr>\n",
       "    <tr>\n",
       "      <th>5</th>\n",
       "      <td>0</td>\n",
       "      <td>0</td>\n",
       "    </tr>\n",
       "    <tr>\n",
       "      <th>6</th>\n",
       "      <td>0</td>\n",
       "      <td>0</td>\n",
       "    </tr>\n",
       "    <tr>\n",
       "      <th>7</th>\n",
       "      <td>0</td>\n",
       "      <td>0</td>\n",
       "    </tr>\n",
       "    <tr>\n",
       "      <th>8</th>\n",
       "      <td>1</td>\n",
       "      <td>1</td>\n",
       "    </tr>\n",
       "    <tr>\n",
       "      <th>9</th>\n",
       "      <td>0</td>\n",
       "      <td>0</td>\n",
       "    </tr>\n",
       "  </tbody>\n",
       "</table>\n",
       "</div>"
      ],
      "text/plain": [
       "   prediction  Survived\n",
       "0           1         1\n",
       "1           1         1\n",
       "2           0         0\n",
       "3           1         0\n",
       "4           0         0\n",
       "5           0         0\n",
       "6           0         0\n",
       "7           0         0\n",
       "8           1         1\n",
       "9           0         0"
      ]
     },
     "execution_count": 10,
     "metadata": {},
     "output_type": "execute_result"
    }
   ],
   "source": [
    "df_unseen = pd.read_csv(\"data/titanic_test.csv\")\n",
    "X_predict = ac.transform(df_unseen, prediction=True)\n",
    "\n",
    "# Predict and decode the labels\n",
    "prediction = ac.index2label(al.predict(X_predict))\n",
    "df_unseen['prediction'] = prediction\n",
    "df_unseen[['prediction', 'Survived']]"
   ]
  },
  {
   "cell_type": "markdown",
   "metadata": {},
   "source": [
    "## 3. Understanding Predictive Models via Feature Importance Calculation\n",
    "\n",
    "Let's have a closer look at the model that `AutoLearn` trained for us. Here's how we can get the full list of metrics for the given model. \n",
    "\n"
   ]
  },
  {
   "cell_type": "markdown",
   "metadata": {},
   "source": [
    "Users usually want to understand what stands behind the model's decisions. One way to do so is to calculate the feature importance. This metric shows which data column is giving the highest contribution to the decision has made. This is a good way to perform a sanity check of the model. \n",
    "\n",
    "To activate the function we use pre-fit `AutoConverter` and pre-trained `AutoLearn` instance."
   ]
  },
  {
   "cell_type": "code",
   "execution_count": 11,
   "metadata": {},
   "outputs": [
    {
     "data": {
      "text/html": [
       "<div>\n",
       "<style scoped>\n",
       "    .dataframe tbody tr th:only-of-type {\n",
       "        vertical-align: middle;\n",
       "    }\n",
       "\n",
       "    .dataframe tbody tr th {\n",
       "        vertical-align: top;\n",
       "    }\n",
       "\n",
       "    .dataframe thead th {\n",
       "        text-align: right;\n",
       "    }\n",
       "</style>\n",
       "<table border=\"1\" class=\"dataframe\">\n",
       "  <thead>\n",
       "    <tr style=\"text-align: right;\">\n",
       "      <th></th>\n",
       "      <th></th>\n",
       "      <th>roc_auc</th>\n",
       "    </tr>\n",
       "    <tr>\n",
       "      <th>tablename</th>\n",
       "      <th>colname</th>\n",
       "      <th></th>\n",
       "    </tr>\n",
       "  </thead>\n",
       "  <tbody>\n",
       "    <tr>\n",
       "      <th rowspan=\"10\" valign=\"top\">main</th>\n",
       "      <th>Age</th>\n",
       "      <td>0.000316</td>\n",
       "    </tr>\n",
       "    <tr>\n",
       "      <th>Cabin</th>\n",
       "      <td>0.008051</td>\n",
       "    </tr>\n",
       "    <tr>\n",
       "      <th>Embarked</th>\n",
       "      <td>0.000295</td>\n",
       "    </tr>\n",
       "    <tr>\n",
       "      <th>Fare</th>\n",
       "      <td>0.000485</td>\n",
       "    </tr>\n",
       "    <tr>\n",
       "      <th>Name</th>\n",
       "      <td>0.050312</td>\n",
       "    </tr>\n",
       "    <tr>\n",
       "      <th>Parch</th>\n",
       "      <td>0.001205</td>\n",
       "    </tr>\n",
       "    <tr>\n",
       "      <th>Pclass</th>\n",
       "      <td>0.005542</td>\n",
       "    </tr>\n",
       "    <tr>\n",
       "      <th>Sex</th>\n",
       "      <td>0.135522</td>\n",
       "    </tr>\n",
       "    <tr>\n",
       "      <th>SibSp</th>\n",
       "      <td>0.004353</td>\n",
       "    </tr>\n",
       "    <tr>\n",
       "      <th>Ticket</th>\n",
       "      <td>0.065219</td>\n",
       "    </tr>\n",
       "  </tbody>\n",
       "</table>\n",
       "</div>"
      ],
      "text/plain": [
       "                     roc_auc\n",
       "tablename colname           \n",
       "main      Age       0.000316\n",
       "          Cabin     0.008051\n",
       "          Embarked  0.000295\n",
       "          Fare      0.000485\n",
       "          Name      0.050312\n",
       "          Parch     0.001205\n",
       "          Pclass    0.005542\n",
       "          Sex       0.135522\n",
       "          SibSp     0.004353\n",
       "          Ticket    0.065219"
      ]
     },
     "execution_count": 11,
     "metadata": {},
     "output_type": "execute_result"
    }
   ],
   "source": [
    "# Feature Importance calculation with Evaluate\n",
    "e = Evaluate(ac=ac, alearn=al)\n",
    "col_imp_df = e.calculate_column_importance()\n",
    "pd.DataFrame(col_imp_df[\"roc_auc\"])"
   ]
  },
  {
   "cell_type": "code",
   "execution_count": 12,
   "metadata": {},
   "outputs": [
    {
     "data": {
      "text/plain": [
       "<matplotlib.axes._subplots.AxesSubplot at 0x7f2a7f1d2748>"
      ]
     },
     "execution_count": 12,
     "metadata": {},
     "output_type": "execute_result"
    },
    {
     "data": {
      "image/png": "[encoded data removed]",
      "text/plain": [
       "<Figure size 432x288 with 1 Axes>"
      ]
     },
     "metadata": {},
     "output_type": "display_data"
    }
   ],
   "source": [
    "# Will be implemented as a function. Don't worry!\n",
    "col_imp_df[\"roc_auc\"].sort_values().plot(kind=\"barh\")"
   ]
  },
  {
   "cell_type": "markdown",
   "metadata": {},
   "source": [
    "# 4. Error Analysis\n",
    "\n",
    "It would be very useful to see what examples are being mispredicted by the model. When we observe these examples we can get the idea of how the model is performing and if there are some common misprediction patterns in the data. If we see that some group of examples usually causes problems we could improve feature engineering step to better capture that pattern."
   ]
  },
  {
   "cell_type": "code",
   "execution_count": 13,
   "metadata": {},
   "outputs": [
    {
     "name": "stdout",
     "output_type": "stream",
     "text": [
      "[WARNING] This instance already has been fitted.\n",
      "     PassengerId  Survived  Pclass                                    Name  \\\n",
      "107          108         1       3                  Moss, Mr. Albert Johan   \n",
      "169          170         0       3                           Ling, Mr. Lee   \n",
      "199          200         0       2  Yrois, Miss. Henriette (\"Mrs Harbeck\")   \n",
      "207          208         1       3             Albimona, Mr. Nassef Cassem   \n",
      "271          272         1       3            Tornquist, Mr. William Henry   \n",
      "288          289         1       2                    Hosono, Mr. Masabumi   \n",
      "305          306         1       1          Allison, Master. Hudson Trevor   \n",
      "312          313         0       2   Lahtinen, Mrs. William (Anna Sylfven)   \n",
      "357          358         0       2               Funk, Miss. Annie Clemmer   \n",
      "607          608         1       1             Daniel, Mr. Robert Williams   \n",
      "673          674         1       2                   Wilhelms, Mr. Charles   \n",
      "744          745         1       3                      Stranden, Mr. Juho   \n",
      "821          822         1       3                       Lulic, Mr. Nikola   \n",
      "\n",
      "        Sex    Age  SibSp  Parch             Ticket      Fare    Cabin  \\\n",
      "107    male    NaN      0      0             312991    7.7750      NaN   \n",
      "169    male  28.00      0      0               1601   56.4958      NaN   \n",
      "199  female  24.00      0      0             248747   13.0000      NaN   \n",
      "207    male  26.00      0      0               2699   18.7875      NaN   \n",
      "271    male  25.00      0      0               LINE    0.0000      NaN   \n",
      "288    male  42.00      0      0             237798   13.0000      NaN   \n",
      "305    male   0.92      1      2             113781  151.5500  C22 C26   \n",
      "312  female  26.00      1      1             250651   26.0000      NaN   \n",
      "357  female  38.00      0      0             237671   13.0000      NaN   \n",
      "607    male  27.00      0      0             113804   30.5000      NaN   \n",
      "673    male  31.00      0      0             244270   13.0000      NaN   \n",
      "744    male  31.00      0      0  STON/O 2. 3101288    7.9250      NaN   \n",
      "821    male  27.00      0      0             315098    8.6625      NaN   \n",
      "\n",
      "    Embarked  \n",
      "107        S  \n",
      "169        S  \n",
      "199        S  \n",
      "207        C  \n",
      "271        S  \n",
      "288        S  \n",
      "305        S  \n",
      "312        S  \n",
      "357        S  \n",
      "607        S  \n",
      "673        S  \n",
      "744        S  \n",
      "821        S  \n"
     ]
    }
   ],
   "source": [
    "mispred_df = e.get_mispredictions(df)\n",
    "print(mispred_df)"
   ]
  },
  {
   "cell_type": "markdown",
   "metadata": {},
   "source": [
    "It is also very useful to get reason codes for the concrete predictions made. This would show us which feature values vere deciding in making this prediction. "
   ]
  },
  {
   "cell_type": "code",
   "execution_count": 14,
   "metadata": {},
   "outputs": [
    {
     "data": {
      "text/html": [
       "<div>\n",
       "<style scoped>\n",
       "    .dataframe tbody tr th:only-of-type {\n",
       "        vertical-align: middle;\n",
       "    }\n",
       "\n",
       "    .dataframe tbody tr th {\n",
       "        vertical-align: top;\n",
       "    }\n",
       "\n",
       "    .dataframe thead th {\n",
       "        text-align: right;\n",
       "    }\n",
       "</style>\n",
       "<table border=\"1\" class=\"dataframe\">\n",
       "  <thead>\n",
       "    <tr style=\"text-align: right;\">\n",
       "      <th></th>\n",
       "      <th>explanations</th>\n",
       "      <th>prediction</th>\n",
       "    </tr>\n",
       "  </thead>\n",
       "  <tbody>\n",
       "    <tr>\n",
       "      <th>0</th>\n",
       "      <td>[(Sex, male), (Name, Braund, Mr. Owen Harris),...</td>\n",
       "      <td>0</td>\n",
       "    </tr>\n",
       "    <tr>\n",
       "      <th>1</th>\n",
       "      <td>[(Sex, female), (Cabin, C85), (Name, Cumings, ...</td>\n",
       "      <td>1</td>\n",
       "    </tr>\n",
       "    <tr>\n",
       "      <th>2</th>\n",
       "      <td>[(Sex, female), (Ticket, STON/O2. 3101282), (N...</td>\n",
       "      <td>1</td>\n",
       "    </tr>\n",
       "    <tr>\n",
       "      <th>3</th>\n",
       "      <td>[(Sex, female), (Pclass, 1), (Cabin, C123)]</td>\n",
       "      <td>1</td>\n",
       "    </tr>\n",
       "    <tr>\n",
       "      <th>4</th>\n",
       "      <td>[(Sex, male), (Ticket, 373450), (Pclass, 3)]</td>\n",
       "      <td>0</td>\n",
       "    </tr>\n",
       "  </tbody>\n",
       "</table>\n",
       "</div>"
      ],
      "text/plain": [
       "                                        explanations  prediction\n",
       "0  [(Sex, male), (Name, Braund, Mr. Owen Harris),...           0\n",
       "1  [(Sex, female), (Cabin, C85), (Name, Cumings, ...           1\n",
       "2  [(Sex, female), (Ticket, STON/O2. 3101282), (N...           1\n",
       "3        [(Sex, female), (Pclass, 1), (Cabin, C123)]           1\n",
       "4       [(Sex, male), (Ticket, 373450), (Pclass, 3)]           0"
      ]
     },
     "execution_count": 14,
     "metadata": {},
     "output_type": "execute_result"
    }
   ],
   "source": [
    "# Reason codes\n",
    "pd.concat([e.get_explanations(df), pd.DataFrame(al.predict(X), columns=[\"prediction\"])], axis=1).head()"
   ]
  },
  {
   "cell_type": "markdown",
   "metadata": {},
   "source": [
    "# 5. Auto-aggregation function"
   ]
  },
  {
   "cell_type": "code",
   "execution_count": 15,
   "metadata": {},
   "outputs": [],
   "source": [
    "import os\n",
    "\n",
    "dirpath = \"data/kaggle-kkbox-churn-prediction-challenge-1k\"\n",
    "\n",
    "members_df = pd.read_csv(os.path.join(dirpath, \"members_train.csv\"))\n",
    "transactions_df = pd.read_csv(os.path.join(dirpath, \"transactions.csv\"))\n",
    "user_logs_df = pd.read_csv(os.path.join(dirpath, \"user_logs.csv\"))"
   ]
  },
  {
   "cell_type": "code",
   "execution_count": 16,
   "metadata": {},
   "outputs": [
    {
     "data": {
      "text/html": [
       "<div>\n",
       "<style scoped>\n",
       "    .dataframe tbody tr th:only-of-type {\n",
       "        vertical-align: middle;\n",
       "    }\n",
       "\n",
       "    .dataframe tbody tr th {\n",
       "        vertical-align: top;\n",
       "    }\n",
       "\n",
       "    .dataframe thead th {\n",
       "        text-align: right;\n",
       "    }\n",
       "</style>\n",
       "<table border=\"1\" class=\"dataframe\">\n",
       "  <thead>\n",
       "    <tr style=\"text-align: right;\">\n",
       "      <th></th>\n",
       "      <th>msno</th>\n",
       "      <th>city</th>\n",
       "      <th>bd</th>\n",
       "      <th>gender</th>\n",
       "      <th>registered_via</th>\n",
       "      <th>registration_init_time</th>\n",
       "      <th>expiration_date</th>\n",
       "      <th>is_churn</th>\n",
       "    </tr>\n",
       "  </thead>\n",
       "  <tbody>\n",
       "    <tr>\n",
       "      <th>0</th>\n",
       "      <td>Y9KbYbLpZ1VPuYUomzhbj7bYe8kHg9l28PI6+Nu6G90=</td>\n",
       "      <td>13</td>\n",
       "      <td>23</td>\n",
       "      <td>male</td>\n",
       "      <td>9</td>\n",
       "      <td>20150409</td>\n",
       "      <td>20170916</td>\n",
       "      <td>0</td>\n",
       "    </tr>\n",
       "    <tr>\n",
       "      <th>1</th>\n",
       "      <td>lMOgMeD05qWJ2A1j+YKwQIR5boRXFSyZo7OWLaZ449E=</td>\n",
       "      <td>1</td>\n",
       "      <td>0</td>\n",
       "      <td>NaN</td>\n",
       "      <td>4</td>\n",
       "      <td>20160213</td>\n",
       "      <td>20171005</td>\n",
       "      <td>0</td>\n",
       "    </tr>\n",
       "    <tr>\n",
       "      <th>2</th>\n",
       "      <td>N1KD7Qk9tI4sqBtWUacP9Z9RWW4Q5DJO5GE39Bg9UXE=</td>\n",
       "      <td>1</td>\n",
       "      <td>0</td>\n",
       "      <td>NaN</td>\n",
       "      <td>7</td>\n",
       "      <td>20160729</td>\n",
       "      <td>20170930</td>\n",
       "      <td>0</td>\n",
       "    </tr>\n",
       "    <tr>\n",
       "      <th>3</th>\n",
       "      <td>r/d1ZxJs1zJN/GuAV3cf+WucqnGO21gLZZKc8vWF/+E=</td>\n",
       "      <td>1</td>\n",
       "      <td>0</td>\n",
       "      <td>NaN</td>\n",
       "      <td>7</td>\n",
       "      <td>20140510</td>\n",
       "      <td>20170912</td>\n",
       "      <td>0</td>\n",
       "    </tr>\n",
       "    <tr>\n",
       "      <th>4</th>\n",
       "      <td>e4qA9TOjpKgDF9Qqgn/FhVaf+pXO1GIIXWA9SgEDi5Q=</td>\n",
       "      <td>1</td>\n",
       "      <td>0</td>\n",
       "      <td>NaN</td>\n",
       "      <td>7</td>\n",
       "      <td>20140108</td>\n",
       "      <td>20160325</td>\n",
       "      <td>1</td>\n",
       "    </tr>\n",
       "  </tbody>\n",
       "</table>\n",
       "</div>"
      ],
      "text/plain": [
       "                                           msno  city  bd gender  \\\n",
       "0  Y9KbYbLpZ1VPuYUomzhbj7bYe8kHg9l28PI6+Nu6G90=    13  23   male   \n",
       "1  lMOgMeD05qWJ2A1j+YKwQIR5boRXFSyZo7OWLaZ449E=     1   0    NaN   \n",
       "2  N1KD7Qk9tI4sqBtWUacP9Z9RWW4Q5DJO5GE39Bg9UXE=     1   0    NaN   \n",
       "3  r/d1ZxJs1zJN/GuAV3cf+WucqnGO21gLZZKc8vWF/+E=     1   0    NaN   \n",
       "4  e4qA9TOjpKgDF9Qqgn/FhVaf+pXO1GIIXWA9SgEDi5Q=     1   0    NaN   \n",
       "\n",
       "   registered_via  registration_init_time  expiration_date  is_churn  \n",
       "0               9                20150409         20170916         0  \n",
       "1               4                20160213         20171005         0  \n",
       "2               7                20160729         20170930         0  \n",
       "3               7                20140510         20170912         0  \n",
       "4               7                20140108         20160325         1  "
      ]
     },
     "execution_count": 16,
     "metadata": {},
     "output_type": "execute_result"
    }
   ],
   "source": [
    "# main table that contains label information\n",
    "members_df.head()"
   ]
  },
  {
   "cell_type": "code",
   "execution_count": 17,
   "metadata": {},
   "outputs": [
    {
     "data": {
      "text/html": [
       "<div>\n",
       "<style scoped>\n",
       "    .dataframe tbody tr th:only-of-type {\n",
       "        vertical-align: middle;\n",
       "    }\n",
       "\n",
       "    .dataframe tbody tr th {\n",
       "        vertical-align: top;\n",
       "    }\n",
       "\n",
       "    .dataframe thead th {\n",
       "        text-align: right;\n",
       "    }\n",
       "</style>\n",
       "<table border=\"1\" class=\"dataframe\">\n",
       "  <thead>\n",
       "    <tr style=\"text-align: right;\">\n",
       "      <th></th>\n",
       "      <th>msno</th>\n",
       "      <th>payment_method_id</th>\n",
       "      <th>payment_plan_days</th>\n",
       "      <th>plan_list_price</th>\n",
       "      <th>actual_amount_paid</th>\n",
       "      <th>is_auto_renew</th>\n",
       "      <th>transaction_date</th>\n",
       "      <th>membership_expire_date</th>\n",
       "      <th>is_cancel</th>\n",
       "    </tr>\n",
       "  </thead>\n",
       "  <tbody>\n",
       "    <tr>\n",
       "      <th>0</th>\n",
       "      <td>vhObkJPRzgPP74QozoUOtfqPXmtnn4aIy83racbStn8=</td>\n",
       "      <td>41</td>\n",
       "      <td>30</td>\n",
       "      <td>149</td>\n",
       "      <td>149</td>\n",
       "      <td>1</td>\n",
       "      <td>20150813</td>\n",
       "      <td>20150913</td>\n",
       "      <td>0</td>\n",
       "    </tr>\n",
       "    <tr>\n",
       "      <th>1</th>\n",
       "      <td>v55Yov8H345QkST/83nb0W/J8iSN0ZnuhkVJ0IdjQiw=</td>\n",
       "      <td>40</td>\n",
       "      <td>30</td>\n",
       "      <td>149</td>\n",
       "      <td>149</td>\n",
       "      <td>1</td>\n",
       "      <td>20150622</td>\n",
       "      <td>20150722</td>\n",
       "      <td>0</td>\n",
       "    </tr>\n",
       "    <tr>\n",
       "      <th>2</th>\n",
       "      <td>ZRFLkvyK429YCuDE5/Y7DKW7CqizEUBMRRQ20jkCmG0=</td>\n",
       "      <td>41</td>\n",
       "      <td>30</td>\n",
       "      <td>149</td>\n",
       "      <td>149</td>\n",
       "      <td>1</td>\n",
       "      <td>20151103</td>\n",
       "      <td>20151203</td>\n",
       "      <td>0</td>\n",
       "    </tr>\n",
       "    <tr>\n",
       "      <th>3</th>\n",
       "      <td>x2fkHWRU3nz5ciXosz6pSQeUUflee8B7SarkRPzUM7M=</td>\n",
       "      <td>41</td>\n",
       "      <td>30</td>\n",
       "      <td>99</td>\n",
       "      <td>99</td>\n",
       "      <td>1</td>\n",
       "      <td>20160710</td>\n",
       "      <td>20160810</td>\n",
       "      <td>0</td>\n",
       "    </tr>\n",
       "    <tr>\n",
       "      <th>4</th>\n",
       "      <td>eHo3iDzl365KV/PPnLQ56ItjCpwu36c2Y5BumJwpoQw=</td>\n",
       "      <td>36</td>\n",
       "      <td>30</td>\n",
       "      <td>150</td>\n",
       "      <td>150</td>\n",
       "      <td>0</td>\n",
       "      <td>20160206</td>\n",
       "      <td>20160307</td>\n",
       "      <td>0</td>\n",
       "    </tr>\n",
       "  </tbody>\n",
       "</table>\n",
       "</div>"
      ],
      "text/plain": [
       "                                           msno  payment_method_id  \\\n",
       "0  vhObkJPRzgPP74QozoUOtfqPXmtnn4aIy83racbStn8=                 41   \n",
       "1  v55Yov8H345QkST/83nb0W/J8iSN0ZnuhkVJ0IdjQiw=                 40   \n",
       "2  ZRFLkvyK429YCuDE5/Y7DKW7CqizEUBMRRQ20jkCmG0=                 41   \n",
       "3  x2fkHWRU3nz5ciXosz6pSQeUUflee8B7SarkRPzUM7M=                 41   \n",
       "4  eHo3iDzl365KV/PPnLQ56ItjCpwu36c2Y5BumJwpoQw=                 36   \n",
       "\n",
       "   payment_plan_days  plan_list_price  actual_amount_paid  is_auto_renew  \\\n",
       "0                 30              149                 149              1   \n",
       "1                 30              149                 149              1   \n",
       "2                 30              149                 149              1   \n",
       "3                 30               99                  99              1   \n",
       "4                 30              150                 150              0   \n",
       "\n",
       "   transaction_date  membership_expire_date  is_cancel  \n",
       "0          20150813                20150913          0  \n",
       "1          20150622                20150722          0  \n",
       "2          20151103                20151203          0  \n",
       "3          20160710                20160810          0  \n",
       "4          20160206                20160307          0  "
      ]
     },
     "execution_count": 17,
     "metadata": {},
     "output_type": "execute_result"
    }
   ],
   "source": [
    "# subtable1\n",
    "transactions_df.head()"
   ]
  },
  {
   "cell_type": "code",
   "execution_count": 18,
   "metadata": {},
   "outputs": [
    {
     "data": {
      "text/html": [
       "<div>\n",
       "<style scoped>\n",
       "    .dataframe tbody tr th:only-of-type {\n",
       "        vertical-align: middle;\n",
       "    }\n",
       "\n",
       "    .dataframe tbody tr th {\n",
       "        vertical-align: top;\n",
       "    }\n",
       "\n",
       "    .dataframe thead th {\n",
       "        text-align: right;\n",
       "    }\n",
       "</style>\n",
       "<table border=\"1\" class=\"dataframe\">\n",
       "  <thead>\n",
       "    <tr style=\"text-align: right;\">\n",
       "      <th></th>\n",
       "      <th>msno</th>\n",
       "      <th>date</th>\n",
       "      <th>num_25</th>\n",
       "      <th>num_50</th>\n",
       "      <th>num_75</th>\n",
       "      <th>num_985</th>\n",
       "      <th>num_100</th>\n",
       "      <th>num_unq</th>\n",
       "      <th>total_secs</th>\n",
       "    </tr>\n",
       "  </thead>\n",
       "  <tbody>\n",
       "    <tr>\n",
       "      <th>0</th>\n",
       "      <td>RerdcHbxFp4FZCUl7sZKj9AKfNe264NA3DPBzpjo9XA=</td>\n",
       "      <td>20170226</td>\n",
       "      <td>9</td>\n",
       "      <td>0</td>\n",
       "      <td>0</td>\n",
       "      <td>0</td>\n",
       "      <td>5</td>\n",
       "      <td>14</td>\n",
       "      <td>1460.376</td>\n",
       "    </tr>\n",
       "    <tr>\n",
       "      <th>1</th>\n",
       "      <td>AtR26mAugw3aXzu9wPToVQnE1+o8UQZdH6fmCM9gMb0=</td>\n",
       "      <td>20160620</td>\n",
       "      <td>0</td>\n",
       "      <td>0</td>\n",
       "      <td>0</td>\n",
       "      <td>1</td>\n",
       "      <td>0</td>\n",
       "      <td>1</td>\n",
       "      <td>181.429</td>\n",
       "    </tr>\n",
       "    <tr>\n",
       "      <th>2</th>\n",
       "      <td>AtR26mAugw3aXzu9wPToVQnE1+o8UQZdH6fmCM9gMb0=</td>\n",
       "      <td>20160924</td>\n",
       "      <td>3</td>\n",
       "      <td>1</td>\n",
       "      <td>1</td>\n",
       "      <td>1</td>\n",
       "      <td>14</td>\n",
       "      <td>20</td>\n",
       "      <td>4311.685</td>\n",
       "    </tr>\n",
       "    <tr>\n",
       "      <th>3</th>\n",
       "      <td>AtR26mAugw3aXzu9wPToVQnE1+o8UQZdH6fmCM9gMb0=</td>\n",
       "      <td>20170119</td>\n",
       "      <td>1</td>\n",
       "      <td>1</td>\n",
       "      <td>1</td>\n",
       "      <td>0</td>\n",
       "      <td>17</td>\n",
       "      <td>18</td>\n",
       "      <td>4222.638</td>\n",
       "    </tr>\n",
       "    <tr>\n",
       "      <th>4</th>\n",
       "      <td>JQcX1OIXQGa5BlyumndL/QF+jTY6ACIP9FmtbMe0cAY=</td>\n",
       "      <td>20150108</td>\n",
       "      <td>0</td>\n",
       "      <td>0</td>\n",
       "      <td>1</td>\n",
       "      <td>0</td>\n",
       "      <td>3</td>\n",
       "      <td>4</td>\n",
       "      <td>864.830</td>\n",
       "    </tr>\n",
       "  </tbody>\n",
       "</table>\n",
       "</div>"
      ],
      "text/plain": [
       "                                           msno      date  num_25  num_50  \\\n",
       "0  RerdcHbxFp4FZCUl7sZKj9AKfNe264NA3DPBzpjo9XA=  20170226       9       0   \n",
       "1  AtR26mAugw3aXzu9wPToVQnE1+o8UQZdH6fmCM9gMb0=  20160620       0       0   \n",
       "2  AtR26mAugw3aXzu9wPToVQnE1+o8UQZdH6fmCM9gMb0=  20160924       3       1   \n",
       "3  AtR26mAugw3aXzu9wPToVQnE1+o8UQZdH6fmCM9gMb0=  20170119       1       1   \n",
       "4  JQcX1OIXQGa5BlyumndL/QF+jTY6ACIP9FmtbMe0cAY=  20150108       0       0   \n",
       "\n",
       "   num_75  num_985  num_100  num_unq  total_secs  \n",
       "0       0        0        5       14    1460.376  \n",
       "1       0        1        0        1     181.429  \n",
       "2       1        1       14       20    4311.685  \n",
       "3       1        0       17       18    4222.638  \n",
       "4       1        0        3        4     864.830  "
      ]
     },
     "execution_count": 18,
     "metadata": {},
     "output_type": "execute_result"
    }
   ],
   "source": [
    "# subtable2\n",
    "user_logs_df.head()"
   ]
  },
  {
   "cell_type": "code",
   "execution_count": 19,
   "metadata": {},
   "outputs": [],
   "source": [
    "# define main-subtable relationship\n",
    "subtables = {\"transactions\": {\"table\": transactions_df,                             \n",
    "                                                   \"link_key\": \"msno\",        # link key will be used for join\n",
    "                                                   \"group_key\": \"msno\"},  # group key will be used for aggregation\n",
    "                      \"user_logs\": {\"table\": user_logs_df,\n",
    "                                              \"link_key\": \"msno\",\n",
    "                                              \"group_key\": \"msno\"}}"
   ]
  },
  {
   "cell_type": "code",
   "execution_count": 20,
   "metadata": {},
   "outputs": [],
   "source": [
    "# AutoConverter works in the same manner\n",
    "ac2 = AutoConverter(target=\"is_churn\")\n",
    "X2, y2 = ac2.fit_transform(df=members_df,\n",
    "                                                subtables=subtables)"
   ]
  },
  {
   "cell_type": "code",
   "execution_count": 21,
   "metadata": {},
   "outputs": [
    {
     "data": {
      "text/plain": [
       "(898, 300)"
      ]
     },
     "execution_count": 21,
     "metadata": {},
     "output_type": "execute_result"
    }
   ],
   "source": [
    "X2.shape"
   ]
  },
  {
   "cell_type": "code",
   "execution_count": 22,
   "metadata": {},
   "outputs": [
    {
     "data": {
      "text/plain": [
       "['main..city.DummyTransformer__Value',\n",
       " 'main..bd.DummyTransformer__Value',\n",
       " 'main..gender.CategoryOneHotEncoder__NaN',\n",
       " 'main..gender.CategoryOneHotEncoder__female',\n",
       " 'main..gender.CategoryOneHotEncoder__male',\n",
       " 'main..registered_via.CategoryOneHotEncoder__13',\n",
       " 'main..registered_via.CategoryOneHotEncoder__3',\n",
       " 'main..registered_via.CategoryOneHotEncoder__4',\n",
       " 'main..registered_via.CategoryOneHotEncoder__7',\n",
       " 'main..registered_via.CategoryOneHotEncoder__9',\n",
       " 'main..registration_init_time.DummyTransformer__Value',\n",
       " 'main..expiration_date.DummyTransformer__Value',\n",
       " 'transactions..payment_method_id.categorical__13',\n",
       " 'transactions..payment_method_id.categorical__14',\n",
       " 'transactions..payment_method_id.categorical__15',\n",
       " 'transactions..payment_method_id.categorical__16',\n",
       " 'transactions..payment_method_id.categorical__17',\n",
       " 'transactions..payment_method_id.categorical__19',\n",
       " 'transactions..payment_method_id.categorical__20',\n",
       " 'transactions..payment_method_id.categorical__21']"
      ]
     },
     "execution_count": 22,
     "metadata": {},
     "output_type": "execute_result"
    }
   ],
   "source": [
    "ac2.feature_names[:20]"
   ]
  },
  {
   "cell_type": "code",
   "execution_count": 23,
   "metadata": {},
   "outputs": [
    {
     "name": "stdout",
     "output_type": "stream",
     "text": [
      "Learning from data...\n"
     ]
    },
    {
     "name": "stderr",
     "output_type": "stream",
     "text": [
      "100% (1 of 1) |███████████████████████████| Elapsed Time: 0:00:24 Time: 0:00:24\n"
     ]
    },
    {
     "data": {
      "text/plain": [
       "{'clf': GridSearchCV(cv=5, error_score='raise',\n",
       "        estimator=XGBClassifier(base_score=0.5, booster='gbtree', colsample_bylevel=1,\n",
       "        colsample_bytree=1, gamma=0, learning_rate=0.1, max_delta_step=0,\n",
       "        max_depth=3, min_child_weight=1, missing=None, n_estimators=100,\n",
       "        n_jobs=1, nthread=None, objective='binary:logistic', random_state=0,\n",
       "        reg_alpha=0, reg_lambda=1, scale_pos_weight=1, seed=None,\n",
       "        silent=True, subsample=1),\n",
       "        fit_params=None, iid=True, n_jobs=1,\n",
       "        param_grid={'learning_rate': [0.01, 0.05], 'n_estimators': [10, 50], 'colsample_bytree': [0.8], 'subsample': [0.75], 'max_depth': [2, 5]},\n",
       "        pre_dispatch='2*n_jobs', refit=True, return_train_score='warn',\n",
       "        scoring='roc_auc', verbose=0),\n",
       " 'dataset_size': 898,\n",
       " 'eval_df':    metric_test  metric_train\n",
       " 0     0.956150      0.980871\n",
       " 1     0.791471      0.997694\n",
       " 2     0.953846      0.996547\n",
       " 3     0.999408      0.995036\n",
       " 4     0.971302      0.964566,\n",
       " 'feature_size': 300,\n",
       " 'name': 'GBClassifier',\n",
       " 'test_eval_df':    accuracy  precision    recall\n",
       " 0  0.983425   0.991329  0.863636\n",
       " 1  0.955556   0.855114  0.647059\n",
       " 2  0.972067   0.880065  0.844083\n",
       " 3  0.988827   0.947041  0.947041\n",
       " 4  0.949721   0.763072  0.738166,\n",
       " 'train_eval_df':    accuracy  precision    recall\n",
       " 0  0.980474   0.972709  0.836761\n",
       " 1  0.990251   0.994883  0.914634\n",
       " 2  0.980529   0.959021  0.852184\n",
       " 3  0.983310   0.991304  0.853659\n",
       " 4  0.979138   0.944391  0.851446,\n",
       " 'training_time': 24.72296714782715}"
      ]
     },
     "execution_count": 23,
     "metadata": {},
     "output_type": "execute_result"
    }
   ],
   "source": [
    "al2 = AutoLearn(level=2)\n",
    "al2.learn(X2, y2)"
   ]
  },
  {
   "cell_type": "code",
   "execution_count": 24,
   "metadata": {},
   "outputs": [],
   "source": [
    "e2 = Evaluate(ac=ac2, alearn=al2)\n",
    "col_imp_df = e2.calculate_column_importance()\n",
    "orig_eval_s = e2.evaluate_performance()"
   ]
  },
  {
   "cell_type": "code",
   "execution_count": 25,
   "metadata": {},
   "outputs": [
    {
     "data": {
      "text/plain": [
       "accuracy             0.985523\n",
       "average_precision    0.944097\n",
       "f1                   0.923158\n",
       "f1_macro             0.923158\n",
       "f1_micro             0.985523\n",
       "neg_log_loss        -0.089297\n",
       "precision            0.992442\n",
       "precision_macro      0.992442\n",
       "precision_micro      0.985523\n",
       "recall               0.872549\n",
       "recall_macro         0.872549\n",
       "recall_micro         0.985523\n",
       "roc_auc              0.993425\n",
       "dtype: float64"
      ]
     },
     "execution_count": 25,
     "metadata": {},
     "output_type": "execute_result"
    }
   ],
   "source": [
    "orig_eval_s"
   ]
  },
  {
   "cell_type": "code",
   "execution_count": 26,
   "metadata": {},
   "outputs": [
    {
     "data": {
      "text/plain": [
       "tablename     colname               \n",
       "main          bd                        0.000070\n",
       "              city                      0.000186\n",
       "              expiration_date           0.200906\n",
       "              gender                   -0.000023\n",
       "              registered_via            0.000839\n",
       "              registration_init_time    0.000256\n",
       "transactions  actual_amount_paid        0.000000\n",
       "              is_auto_renew             0.000000\n",
       "              is_cancel                 0.000000\n",
       "              membership_expire_date    0.002190\n",
       "              payment_method_id         0.000000\n",
       "              payment_plan_days         0.000000\n",
       "              plan_list_price           0.000000\n",
       "              transaction_date          0.015590\n",
       "user_logs     date                      0.000117\n",
       "              num_100                   0.000699\n",
       "              num_25                    0.000280\n",
       "              num_50                    0.001002\n",
       "              num_75                    0.000000\n",
       "              num_985                   0.000000\n",
       "              num_unq                   0.000047\n",
       "              total_secs                0.000210\n",
       "Name: roc_auc, dtype: float64"
      ]
     },
     "execution_count": 26,
     "metadata": {},
     "output_type": "execute_result"
    }
   ],
   "source": [
    "col_imp_df[\"roc_auc\"]"
   ]
  },
  {
   "cell_type": "code",
   "execution_count": null,
   "metadata": {},
   "outputs": [],
   "source": []
  }
 ],
 "metadata": {
  "kernelspec": {
   "display_name": "Python 3",
   "language": "python",
   "name": "python3"
  },
  "language_info": {
   "codemirror_mode": {
    "name": "ipython",
    "version": 3
   },
   "file_extension": ".py",
   "mimetype": "text/x-python",
   "name": "python",
   "nbconvert_exporter": "python",
   "pygments_lexer": "ipython3",
   "version": "3.5.2"
  }
 },
 "nbformat": 4,
 "nbformat_minor": 1
}
